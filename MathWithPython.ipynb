{
  "nbformat": 4,
  "nbformat_minor": 0,
  "metadata": {
    "colab": {
      "name": "MathWithPython.ipynb",
      "provenance": [],
      "authorship_tag": "ABX9TyPYhikFHt1WOA4/5Zj00nIn",
      "include_colab_link": true
    },
    "kernelspec": {
      "name": "python3",
      "display_name": "Python 3"
    }
  },
  "cells": [
    {
      "cell_type": "markdown",
      "metadata": {
        "id": "view-in-github",
        "colab_type": "text"
      },
      "source": [
        "<a href=\"https://colab.research.google.com/github/AbhirupN/python/blob/master/MathWithPython.ipynb\" target=\"_parent\"><img src=\"https://colab.research.google.com/assets/colab-badge.svg\" alt=\"Open In Colab\"/></a>"
      ]
    },
    {
      "cell_type": "code",
      "metadata": {
        "id": "9ScqDQEpVqvJ",
        "colab_type": "code",
        "colab": {
          "base_uri": "https://localhost:8080/",
          "height": 34
        },
        "outputId": "487389d6-a07a-4461-88d7-2f5b7f05ef84"
      },
      "source": [
        "number1 = 5\n",
        "number2 = 3\n",
        "print (\"the product of two number is \", number1*number2)"
      ],
      "execution_count": 1,
      "outputs": [
        {
          "output_type": "stream",
          "text": [
            "the product of two number is  15\n"
          ],
          "name": "stdout"
        }
      ]
    }
  ]
}