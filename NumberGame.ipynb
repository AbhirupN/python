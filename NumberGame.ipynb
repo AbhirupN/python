{
  "nbformat": 4,
  "nbformat_minor": 0,
  "metadata": {
    "colab": {
      "name": "NumberGame.ipynb",
      "provenance": [],
      "collapsed_sections": [],
      "authorship_tag": "ABX9TyNZC7gA5YLFCZ4tFfRkij93",
      "include_colab_link": true
    },
    "kernelspec": {
      "name": "python3",
      "display_name": "Python 3"
    }
  },
  "cells": [
    {
      "cell_type": "markdown",
      "metadata": {
        "id": "view-in-github",
        "colab_type": "text"
      },
      "source": [
        "<a href=\"https://colab.research.google.com/github/AbhirupN/python/blob/master/NumberGame.ipynb\" target=\"_parent\"><img src=\"https://colab.research.google.com/assets/colab-badge.svg\" alt=\"Open In Colab\"/></a>"
      ]
    },
    {
      "cell_type": "code",
      "metadata": {
        "id": "VOAVTMSwEX5N",
        "colab_type": "code",
        "colab": {
          "base_uri": "https://localhost:8080/",
          "height": 69
        },
        "outputId": "c0f65668-b1c8-4450-d983-4665672d8a8b"
      },
      "source": [
        "x= input (\"Enter the first number\")\n",
        "y= input (\"Enter the second number\")\n",
        "if (int(x) > int(y)):\n",
        "  print (\"The x is greater\")\n",
        "else :\n",
        "  print (\"The y is greater\")"
      ],
      "execution_count": 32,
      "outputs": [
        {
          "output_type": "stream",
          "text": [
            "Enter the first number30\n",
            "Enter the second number14\n",
            "The x is greater\n"
          ],
          "name": "stdout"
        }
      ]
    },
    {
      "cell_type": "code",
      "metadata": {
        "id": "fckIgJ7SIuG8",
        "colab_type": "code",
        "colab": {
          "base_uri": "https://localhost:8080/",
          "height": 69
        },
        "outputId": "fd778115-e620-4aa0-86cf-442b77c9d1a9"
      },
      "source": [
        "number1= input (\"Enter the first number\")\n",
        "number2= input (\"Enter the second number\")\n",
        "if (int(number1) > int(number2)):\n",
        "  print (\"The number1 is greater\")\n",
        "else :\n",
        "  print (\"The number2 is greater\")"
      ],
      "execution_count": 16,
      "outputs": [
        {
          "output_type": "stream",
          "text": [
            "Enter the first number10\n",
            "Enter the Second number20\n",
            "The number2 is greater\n"
          ],
          "name": "stdout"
        }
      ]
    },
    {
      "cell_type": "code",
      "metadata": {
        "id": "Z1dB1ruGKuHD",
        "colab_type": "code",
        "colab": {
          "base_uri": "https://localhost:8080/",
          "height": 69
        },
        "outputId": "891d2f90-7fba-4369-c753-52a0d8b6c665"
      },
      "source": [
        "x= input (\"Enter the first number\")\n",
        "y= input (\"Enter the second number\")\n",
        "if (int(x) > int(y)):\n",
        "  print (\"The x is greater\")\n",
        "else :\n",
        "  print (\"The y is greater\")"
      ],
      "execution_count": 30,
      "outputs": [
        {
          "output_type": "stream",
          "text": [
            "Enter the first number5\n",
            "Enter the second number15\n",
            "The y is greater\n"
          ],
          "name": "stdout"
        }
      ]
    }
  ]
}