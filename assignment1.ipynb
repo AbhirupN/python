{
  "nbformat": 4,
  "nbformat_minor": 0,
  "metadata": {
    "colab": {
      "name": "assignment1.ipynb",
      "provenance": [],
      "authorship_tag": "ABX9TyPJXzBx1DVsIEG8F6DCSzjn",
      "include_colab_link": true
    },
    "kernelspec": {
      "name": "python3",
      "display_name": "Python 3"
    }
  },
  "cells": [
    {
      "cell_type": "markdown",
      "metadata": {
        "id": "view-in-github",
        "colab_type": "text"
      },
      "source": [
        "<a href=\"https://colab.research.google.com/github/AbhirupN/python/blob/master/assignment1.ipynb\" target=\"_parent\"><img src=\"https://colab.research.google.com/assets/colab-badge.svg\" alt=\"Open In Colab\"/></a>"
      ]
    },
    {
      "cell_type": "code",
      "metadata": {
        "id": "DAmdvZxminYB",
        "colab_type": "code",
        "colab": {
          "base_uri": "https://localhost:8080/",
          "height": 139
        },
        "outputId": "4da69e78-225b-45df-acce-a19d26420dec"
      },
      "source": [
        "print (\"Hi! I will help you with some math!\")\n",
        "a = input (\"Tell me a number\")\n",
        "b = input (\"Tell me another number\")\n",
        "print(\"This is the addition of those two number:\", int(a)+int(b))\n",
        "print(\"This is the multiplication of those two number:\", int(a)*int (b))\n",
        "print(\"This is the division of those two numbers:\", int(a)/int(b))\n",
        "print(\"This is the substraction of those two numbers:\", int(a)-int(b))\n"
      ],
      "execution_count": 5,
      "outputs": [
        {
          "output_type": "stream",
          "text": [
            "Hi! I will help you with some math!\n",
            "Tell me a number10\n",
            "Tell me another number30\n",
            "This is the addition of those two number: 40\n",
            "This is the multiplication of those two number: 300\n",
            "This is the division of those two numbers: 0.3333333333333333\n",
            "This is the substraction of those two numbers: -20\n"
          ],
          "name": "stdout"
        }
      ]
    }
  ]
}